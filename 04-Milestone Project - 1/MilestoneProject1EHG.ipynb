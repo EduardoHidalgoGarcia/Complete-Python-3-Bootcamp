{
 "cells": [
  {
   "cell_type": "code",
   "execution_count": 2,
   "metadata": {},
   "outputs": [],
   "source": [
    "from IPython.display import clear_output\n",
    "\n",
    "#Global variables\n",
    "board = [' ']*10\n",
    "game_state = True\n",
    "announce = ''"
   ]
  },
  {
   "cell_type": "code",
   "execution_count": 3,
   "metadata": {},
   "outputs": [],
   "source": [
    "#function to reset board\n",
    "def reset_board():\n",
    "    global board,game_state\n",
    "    board = [' ']*10\n",
    "    game_state=True"
   ]
  },
  {
   "cell_type": "code",
   "execution_count": 4,
   "metadata": {},
   "outputs": [],
   "source": [
    "def display_board():\n",
    "    \"\"\"This function prints out the board so the numpad can be used as a reference\"\"\"\n",
    "    #clear current cell output\n",
    "    clear_output()\n",
    "    print(' ' + board[7] + ' | ' + board[8] + ' | ' + board[9])\n",
    "    print(\"----------------\")\n",
    "    print(' ' + board[4] + ' | ' + board[5] + ' | ' + board[6])\n",
    "    print(\"----------------\")\n",
    "    print(' ' + board[1] + ' | ' + board[2] + ' | ' + board[3])\n"
   ]
  },
  {
   "cell_type": "code",
   "execution_count": 5,
   "metadata": {},
   "outputs": [],
   "source": [
    "def win_check(board, player):\n",
    "    \"\"\"Check boolean horizontal, verticals, and diagonals for a win\"\"\"\n",
    "    return(board[7]==board[8]==board[9]==player or\n",
    "          board[4]==board[5]==board[6]==player or\n",
    "          board[1]==board[2]==board[3]==player or\n",
    "          board[1]==board[2]==board[7]==player or\n",
    "          board[2]==board[5]==board[8]==player or\n",
    "          board[3]==board[6]==board[9]==player or\n",
    "          board[1]==board[5]==board[9]==player or\n",
    "          board[3]==board[5]==board[7]==player)\n",
    "    "
   ]
  },
  {
   "cell_type": "code",
   "execution_count": 6,
   "metadata": {},
   "outputs": [],
   "source": [
    "def full_board_check(board):\n",
    "    if \" \" in board[1:]:\n",
    "        return False\n",
    "    else:\n",
    "        return True "
   ]
  },
  {
   "cell_type": "code",
   "execution_count": 7,
   "metadata": {},
   "outputs": [],
   "source": [
    "def ask_player(mark):\n",
    "    \"\"\"Asks player where to place X o 0 mark, checks validity\"\"\"\n",
    "    global board\n",
    "    req = 'Choose where to place you: '+mark\n",
    "    while True:\n",
    "        try:\n",
    "            choice=int(input(req))\n",
    "        except ValueError:\n",
    "            print(\"Sorry, please input a number between 1-9.\")\n",
    "            continue\n",
    "\n",
    "        if board[choice]==\" \":\n",
    "            board[choice]=mark\n",
    "            break\n",
    "        else:\n",
    "            print(\"That space isn't empty!\")\n",
    "            continue"
   ]
  },
  {
   "cell_type": "code",
   "execution_count": 8,
   "metadata": {},
   "outputs": [],
   "source": [
    "def player_choice(mark):\n",
    "    global board,game_state,announce\n",
    "    #Set game blank game announcement\n",
    "    announce = ''\n",
    "    #Get player input\n",
    "    mark =str(mark)\n",
    "    #Validate input\n",
    "    ask_player(mark)\n",
    "    \n",
    "    #Check for player win\n",
    "    if win_check(board,mark):\n",
    "        clear_output()\n",
    "        display_board()\n",
    "        announce=mark+\" wins! Congratulations\"\n",
    "        game_state=False\n",
    "        \n",
    "    #Show board\n",
    "    clear_output()\n",
    "    display_board()\n",
    "    \n",
    "    #Check for a tie\n",
    "    if full_board_check(board):\n",
    "        announce=\"Tie!\"\n",
    "        game_state=False\n",
    "        \n",
    "    return game_state,announce"
   ]
  },
  {
   "cell_type": "code",
   "execution_count": 9,
   "metadata": {},
   "outputs": [],
   "source": [
    "def play_game():\n",
    "    reset_board()\n",
    "    global announce\n",
    "    \n",
    "    #Set marks\n",
    "    X='X'\n",
    "    O='O'\n",
    "    while True:\n",
    "        #Show board\n",
    "        clear_output()\n",
    "        display_board()\n",
    "        \n",
    "        #Player X turn\n",
    "        game_state,announce = player_choice(X)\n",
    "        print(announce)\n",
    "        if game_state==False:\n",
    "            break\n",
    "            \n",
    "        #Player O turn\n",
    "        game_state,announce = player_choice(O)\n",
    "        print(announce)\n",
    "        if game_state==False:\n",
    "            break\n",
    "            \n",
    "    #Ask player for a  rematch\n",
    "    rematch=input('Would you like to play again? y/n')\n",
    "    if rematch == 'y':\n",
    "        play_game()\n",
    "    else:\n",
    "        print(\"Thanks for playing!\")\n",
    "            \n",
    "            \n",
    "            \n",
    "        \n",
    "        \n",
    "    "
   ]
  },
  {
   "cell_type": "code",
   "execution_count": null,
   "metadata": {},
   "outputs": [
    {
     "name": "stdout",
     "output_type": "stream",
     "text": [
      "   |   |  \n",
      "----------------\n",
      "   |   |  \n",
      "----------------\n",
      "   |   |  \n"
     ]
    }
   ],
   "source": [
    "play_game()"
   ]
  },
  {
   "cell_type": "code",
   "execution_count": null,
   "metadata": {},
   "outputs": [],
   "source": []
  }
 ],
 "metadata": {
  "kernelspec": {
   "display_name": "Python 3",
   "language": "python",
   "name": "python3"
  },
  "language_info": {
   "codemirror_mode": {
    "name": "ipython",
    "version": 3
   },
   "file_extension": ".py",
   "mimetype": "text/x-python",
   "name": "python",
   "nbconvert_exporter": "python",
   "pygments_lexer": "ipython3",
   "version": "3.6.7"
  }
 },
 "nbformat": 4,
 "nbformat_minor": 2
}
