{
 "cells": [
  {
   "cell_type": "markdown",
   "metadata": {},
   "source": [
    "# Milestone Project 1: Walkthrough Steps Workbook\n",
    "\n",
    "Below is a set of steps for you to follow to try to create the Tic Tac Toe Milestone Project game!"
   ]
  },
  {
   "cell_type": "markdown",
   "metadata": {},
   "source": [
    "#### Some suggested tools before you get started:\n",
    "To take input from a user:\n",
    "\n",
    "    player1 = input(\"Please pick a marker 'X' or 'O'\")\n",
    "    \n",
    "Note that input() takes in a string. If you need an integer value, use\n",
    "\n",
    "    position = int(input('Please enter a number'))\n",
    "    \n",
    "<br>To clear the screen between moves:\n",
    "\n",
    "    from IPython.display import clear_output\n",
    "    clear_output()\n",
    "    \n",
    "Note that clear_output() will only work in jupyter. To clear the screen in other IDEs, consider:\n",
    "\n",
    "    print('\\n'*100)\n",
    "    \n",
    "This scrolls the previous board up out of view. Now on to the program!"
   ]
  },
  {
   "cell_type": "markdown",
   "metadata": {},
   "source": [
    "**Step 1: Write a function that can print out a board. Set up your board as a list, where each index 1-9 corresponds with a number on a number pad, so you get a 3 by 3 board representation.**"
   ]
  },
  {
   "cell_type": "code",
   "execution_count": 54,
   "metadata": {},
   "outputs": [],
   "source": [
    "from IPython.display import clear_output\n",
    "\n",
    "def display_board(board):\n",
    "    print(board[6] + \"|\" + board[7] + \"|\" + board[8])\n",
    "    print(board[3] + \"|\" + board[4] + \"|\" + board[5])\n",
    "    print(board[0] + \"|\" + board[1] + \"|\" + board[2])\n",
    "    \n",
    "    "
   ]
  },
  {
   "cell_type": "markdown",
   "metadata": {},
   "source": [
    "**TEST Step 1:** run your function on a test version of the board list, and make adjustments as necessary"
   ]
  },
  {
   "cell_type": "code",
   "execution_count": 55,
   "metadata": {},
   "outputs": [
    {
     "name": "stdout",
     "output_type": "stream",
     "text": [
      "O|X|O\n",
      "X|O|X\n",
      "#|X|O\n"
     ]
    }
   ],
   "source": [
    "test_board = ['#','X','O','X','O','X','O','X','O','X']\n",
    "display_board(test_board)"
   ]
  },
  {
   "cell_type": "markdown",
   "metadata": {},
   "source": [
    "**Step 2: Write a function that can take in a player input and assign their marker as 'X' or 'O'. Think about using *while* loops to continually ask until you get a correct answer.**"
   ]
  },
  {
   "cell_type": "code",
   "execution_count": 60,
   "metadata": {},
   "outputs": [],
   "source": [
    "def player_input():\n",
    "    aux = [\" \",\" \",\" \",\" \",\" \",\" \",\" \",\" \",\" \"]\n",
    "    aux2 = []\n",
    "    player_one = str(input('Name Player One: '))\n",
    "    player_two = str(input('Name Player Two: '))\n",
    "    i = 0\n",
    "    while (i < 8 and str(aux[0])+str(aux[1])+str(aux[2])!=\"XXX\" and str(aux[0])+str(aux[1])+str(aux[2])!=\"000\" and str(aux[3])+str(aux[4])+str(aux[5])!=\"XXX\" and str(aux[3])+str(aux[4])+str(aux[5])!=\"000\"  and str(aux[6])+str(aux[7])+str(aux[8])!=\"XXX\" and str(aux[6])+str(aux[7])+str(aux[8])!=\"000\" and str(aux[0])+str(aux[4])+str(aux[7])!=\"XXX\" and str(aux[0])+str(aux[4])+str(aux[7])!=\"000\" and str(aux[6])+str(aux[4])+str(aux[2])!=\"XXX\" and str(aux[6])+str(aux[4])+str(aux[2])!=\"000\" and str(aux[0])+str(aux[3])+str(aux[6])!=\"XXX\" and str(aux[0])+str(aux[3])+str(aux[6])!=\"000\" and str(aux[1])+str(aux[4])+str(aux[7])!=\"XXX\" and str(aux[1])+str(aux[4])+str(aux[7])!=\"000\" and str(aux[2])+str(aux[5])+str(aux[8])!=\"XXX\" and str(aux[2])+str(aux[5])+str(aux[8])!=\"000\"):\n",
    "        \n",
    "        if i % 2 == 0:\n",
    "            aux[int(input(f'Turn {i+1} {player_one} moves (imput a position between 0 & 8): '))] = \"0\"\n",
    "            clear_output()\n",
    "            display_board(aux)\n",
    "        else:\n",
    "            aux[int(input(f'Turn {i+1} {player_two} moves (imput a position between 0 & 8): '))] = \"X\"\n",
    "            clear_output()\n",
    "            display_board(aux)\n",
    "        i = i + 1\n",
    "    \n",
    "    \n",
    "    if i == 8:\n",
    "        clear_output()\n",
    "        print(f\"{player_one} is even with {player_two} \")\n",
    "        return display_board(aux)\n",
    "    elif i % 2 == 0:\n",
    "        clear_output()\n",
    "        print(f\"{player_two} beats {player_one} \")\n",
    "        return display_board(aux)\n",
    "    else:\n",
    "        clear_output()\n",
    "        print(f\"{player_one} beats {player_two} \")\n",
    "        return display_board(aux)\n",
    "\n",
    "    \n",
    "        \n",
    "    \n",
    "    \n",
    "    "
   ]
  },
  {
   "cell_type": "markdown",
   "metadata": {},
   "source": [
    "**TEST Step 2:** run the function to make sure it returns the desired output"
   ]
  },
  {
   "cell_type": "code",
   "execution_count": 61,
   "metadata": {},
   "outputs": [
    {
     "name": "stdout",
     "output_type": "stream",
     "text": [
      "Eduardo beats Maria \n",
      "0| | \n",
      "X|0|X\n",
      "0|X|0\n"
     ]
    }
   ],
   "source": [
    "player_input()"
   ]
  }
 ],
 "metadata": {
  "kernelspec": {
   "display_name": "Python 3",
   "language": "python",
   "name": "python3"
  },
  "language_info": {
   "codemirror_mode": {
    "name": "ipython",
    "version": 3
   },
   "file_extension": ".py",
   "mimetype": "text/x-python",
   "name": "python",
   "nbconvert_exporter": "python",
   "pygments_lexer": "ipython3",
   "version": "3.6.5"
  }
 },
 "nbformat": 4,
 "nbformat_minor": 1
}
