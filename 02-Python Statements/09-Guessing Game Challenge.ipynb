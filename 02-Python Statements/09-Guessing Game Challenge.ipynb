{
 "cells": [
  {
   "cell_type": "markdown",
   "metadata": {},
   "source": [
    "# Guessing Game Challenge\n",
    "\n",
    "Let's use `while` loops to create a guessing game.\n",
    "\n",
    "The Challenge:\n",
    "\n",
    "Write a program that picks a random integer from 1 to 100, and has players guess the number. The rules are:\n",
    "\n",
    "1. If a player's guess is less than 1 or greater than 100, say \"OUT OF BOUNDS\"\n",
    "2. On a player's first turn, if their guess is\n",
    " * within 10 of the number, return \"WARM!\"\n",
    " * further than 10 away from the number, return \"COLD!\"\n",
    "3. On all subsequent turns, if a guess is \n",
    " * closer to the number than the previous guess return \"WARMER!\"\n",
    " * farther from the number than the previous guess, return \"COLDER!\"\n",
    "4. When the player's guess equals the number, tell them they've guessed correctly *and* how many guesses it took!\n",
    "\n",
    "You can try this from scratch, or follow the steps outlined below. A separate Solution notebook has been provided. Good luck!\n"
   ]
  },
  {
   "cell_type": "raw",
   "metadata": {},
   "source": [
    "import IPython.core.display as di\n",
    "\n",
    "di.display_html(\n",
    "    '<script>jQuery(function() {if (jQuery(\"body.notebook_app\").length == 0) { jQuery(\".input_area, .output_stderr\").toggle(); jQuery(\".prompt\").toggle();}});</script>', raw=True)\n",
    "\n",
    "CSS = \"\"\".input_area .output_stderr {height: 2.0em; overflow: hidden}\"\"\"  # changes input_subarea width to 1 visible line\n",
    "HTML('<style>{}</style>'.format(CSS))\n",
    "\n",
    "di.display_html('''<button onclick=\"jQuery('.input_area').toggle(); jQuery('.prompt').toggle();\">Click in rendered .html output only, toggles the code</button>''', raw=True)"
   ]
  },
  {
   "cell_type": "markdown",
   "metadata": {},
   "source": [
    "#### First, pick a random integer from 1 to 100 using the random module and assign it to a variable\n",
    "\n",
    "Note: `random.randint(a,b)` returns a random integer in range `[a, b]`, including both end points."
   ]
  },
  {
   "cell_type": "code",
   "execution_count": 1,
   "metadata": {},
   "outputs": [],
   "source": [
    "from random import randint"
   ]
  },
  {
   "cell_type": "markdown",
   "metadata": {},
   "source": [
    "#### Next, print an introduction to the game and explain the rules"
   ]
  },
  {
   "cell_type": "code",
   "execution_count": 2,
   "metadata": {},
   "outputs": [
    {
     "name": "stdout",
     "output_type": "stream",
     "text": [
      "Welcome to the Guessing Chanllenge Game \n",
      "The rules are the following: \n",
      "A random integer number between 1 and 100 will be chosen. \n",
      "players guess the number. The rules are: \n",
      "1. If a player's guess is less than 1 or greater than 100, machine will say OUT OF BOUNDS \n",
      "2. On a player's first turn, if their guess is \n",
      "* within 10 of the number, return WARM! \n",
      "* further than 10 away from the number, return COLD! \n",
      "3. On all subsequent turns, if a guess is \n",
      "* closer to the number than the previous guess return WARMER! \n",
      "* farther from the number than the previous guess, return COLDER! 4. When the player's guess equals the number, machine will tell you have guessed correctly and how many guesses it took!\n"
     ]
    }
   ],
   "source": [
    "print(\"Welcome to the Guessing Chanllenge Game \\nThe rules are the following: \\nA random integer number between 1 and 100 will be chosen. \\nplayers guess the number. The rules are: \\n1. If a player's guess is less than 1 or greater than 100, machine will say OUT OF BOUNDS \\n2. On a player's first turn, if their guess is \\n* within 10 of the number, return WARM! \\n* further than 10 away from the number, return COLD! \\n3. On all subsequent turns, if a guess is \\n* closer to the number than the previous guess return WARMER! \\n* farther from the number than the previous guess, return COLDER! 4. When the player's guess equals the number, machine will tell you have guessed correctly and how many guesses it took!\")"
   ]
  },
  {
   "cell_type": "code",
   "execution_count": 3,
   "metadata": {},
   "outputs": [
    {
     "name": "stdout",
     "output_type": "stream",
     "text": [
      "Enter your guess into this box: 50\n",
      "Machine's answer: \n",
      " # 50 is COLD!\n",
      "You're COLD try again: 10\n",
      "Machine's answer: \n",
      " In your 2 trial # 10 is COLDER!\n",
      "You're COLD try again: 45\n",
      "Machine's answer: \n",
      " In your 3 trial # 45 is WARMER!\n",
      "You're COLD try again: 43\n",
      "Machine's answer: \n",
      " In your 4 trial # 43 is COLDER!\n",
      "You're COLD try again: 47\n",
      "Machine's answer: \n",
      " In your 5 trial # 47 is WARMER!\n",
      "You're COLD try again: 55\n",
      "Machine's answer: \n",
      " In your 6 trial # 55 is WARMER!\n",
      "You're COLD try again: 60\n",
      "Machine's answer: \n",
      " In your 7 trial # 60 is WARMER!\n",
      "You're COLD try again: 70\n",
      "Machine's answer: \n",
      " In your 8 trial # 70 is WARMER!\n",
      "You're COLD try again: 80\n",
      "Machine's answer: \n",
      " In your 9 trial # 80 is WARMER!\n",
      "You're COLD try again: 90\n",
      "Machine's answer: \n",
      " In your 10 trial # 90 is COLDER!\n",
      "You're COLD try again: 81\n",
      "Machine's answer: \n",
      " In your 11 trial # 81 is WARMER!\n",
      "You're COLD try again: 82\n",
      "Machine's answer: \n",
      " In your 12 trial # 82 is COLDER!\n",
      "You're COLD try again: 83\n",
      "Machine's answer: \n",
      " In your 13 trial # 83 is COLDER!\n",
      "You're COLD try again: 81\n",
      "Machine's answer: \n",
      " In your 14 trial # 81 is WARMER!\n",
      "You're COLD try again: 80\n",
      "Machine's answer: \n",
      " In your 15 trial # 80 is WARMER!\n",
      "You're COLD try again: 79\n",
      "Your choice # 79 was accurate in 15 trials\n"
     ]
    }
   ],
   "source": [
    "value = randint(1,100)\n",
    "i=0\n",
    "mylist = []\n",
    "guess= int(input('Enter your guess into this box: '))\n",
    "a = abs(value - guess)\n",
    "while a > 0:\n",
    "    j=i-1\n",
    "    mylist = mylist + [guess]\n",
    "\n",
    "    # we can copy the code from above to take an input\n",
    "    if guess < 1 | guess >100:\n",
    "        i= i + 1\n",
    "        print(f\"Machine's answer: \\n # {guess} is OUT OF BOUNDS\")\n",
    "        guess= int(input('Index out of bounds try again: '))\n",
    "        a = abs(value - guess)\n",
    "    elif i == 0 and abs(value - guess) > 10:\n",
    "        i= i + 1\n",
    "        print(f\"Machine's answer: \\n # {guess} is COLD!\")\n",
    "        guess= int(input(\"You're COLD try again: \"))\n",
    "        a = abs(value - guess)\n",
    "    elif i > 0 and abs(value - mylist[i]) > abs(value - mylist[j]):\n",
    "        i= i + 1\n",
    "        print(f\"Machine's answer: \\n In your {i} trial # {guess} is COLDER!\")\n",
    "        guess= int(input(\"You're COLD try again: \"))\n",
    "        a = abs(value - guess)\n",
    "    elif i > 0 and abs(value - mylist[i]) <= abs(value - mylist[j]):\n",
    "        i= i + 1\n",
    "        print(f\"Machine's answer: \\n In your {i} trial # {guess} is WARMER!\")\n",
    "        guess= int(input(\"You're COLD try again: \"))\n",
    "        a = abs(value - guess)\n",
    "    else :\n",
    "        print(f\"Machine's answer: \\n # {guess} is WARM!\")\n",
    "        i= i + 1\n",
    "        \n",
    "    \n",
    "print(f\"Your choice # {guess} was accurate in {i} trials\")\n",
    "        "
   ]
  },
  {
   "cell_type": "markdown",
   "metadata": {},
   "source": [
    "### Good Job!"
   ]
  }
 ],
 "metadata": {
  "kernelspec": {
   "display_name": "Python 3",
   "language": "python",
   "name": "python3"
  },
  "language_info": {
   "codemirror_mode": {
    "name": "ipython",
    "version": 3
   },
   "file_extension": ".py",
   "mimetype": "text/x-python",
   "name": "python",
   "nbconvert_exporter": "python",
   "pygments_lexer": "ipython3",
   "version": "3.6.5"
  }
 },
 "nbformat": 4,
 "nbformat_minor": 2
}
